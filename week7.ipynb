{
  "nbformat": 4,
  "nbformat_minor": 0,
  "metadata": {
    "colab": {
      "name": "week7.ipynb",
      "provenance": []
    },
    "kernelspec": {
      "name": "python3",
      "display_name": "Python 3"
    }
  },
  "cells": [
    {
      "cell_type": "code",
      "metadata": {
        "id": "GVmMwuVYfmth",
        "colab_type": "code",
        "colab": {
          "base_uri": "https://localhost:8080/",
          "height": 85
        },
        "outputId": "20f78c70-c73f-49db-e47e-87593d600c47"
      },
      "source": [
        "movie_title=\"梨泰院Class\" #韓劇名稱\n",
        "release_year=\"2020\" #開始連載日期\n",
        "movie_time_total_min=960 #總片長\n",
        "movie_rating=8.8 #評分\n",
        "\n",
        "director=\"金善允\" #導演\n",
        "stars_1=\"朴敘俊 \" #主演\n",
        "stars_2=\"金多美 \"\n",
        "stars_3=\"劉在明\"\n",
        "stars_4=\"權娜拉\"\n",
        "\n",
        "print(movie_title) #螢幕列印\n",
        "print(release_year)\n",
        "print(movie_time_total_min)\n",
        "print(movie_rating)"
      ],
      "execution_count": 1,
      "outputs": [
        {
          "output_type": "stream",
          "text": [
            "梨泰院Class\n",
            "2020\n",
            "960\n",
            "8.8\n"
          ],
          "name": "stdout"
        }
      ]
    }
  ]
}
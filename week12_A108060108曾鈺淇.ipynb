{
  "nbformat": 4,
  "nbformat_minor": 0,
  "metadata": {
    "colab": {
      "name": "week12 A108060108曾鈺淇.ipynb",
      "provenance": []
    },
    "kernelspec": {
      "name": "python3",
      "display_name": "Python 3"
    }
  },
  "cells": [
    {
      "cell_type": "code",
      "metadata": {
        "id": "6enEPH9W2xLg",
        "colab_type": "code",
        "colab": {
          "base_uri": "https://localhost:8080/",
          "height": 90
        },
        "outputId": "556215bf-eefe-4eab-cbd6-fc85e794e20a"
      },
      "source": [
        "noodle = input(\"有麵嗎?(YES/NO\")\n",
        "sauce = input(\"有醬料嗎?(YES/NO\")\n",
        "if noodle ==\"YES\":\n",
        "  if sauce ==\"YES\":\n",
        "     print(\"可做義大利麵!\")\n",
        "print(\"Well done!\")\n",
        "     "
      ],
      "execution_count": 1,
      "outputs": [
        {
          "output_type": "stream",
          "text": [
            "有麵嗎?(YES/NOYES\n",
            "有醬料嗎?(YES/NOYES\n",
            "可做義大利麵!\n",
            "Well done!\n"
          ],
          "name": "stdout"
        }
      ]
    }
  ]
}